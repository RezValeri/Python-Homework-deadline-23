{
 "cells": [
  {
   "cell_type": "code",
   "execution_count": 1,
   "metadata": {},
   "outputs": [],
   "source": [
    "#All libraries\n",
    "import pandas as pd\n",
    "import re\n",
    "import glob\n",
    "import matplotlib.pyplot as plt\n",
    "import numpy as np \n",
    "import seaborn as sns"
   ]
  },
  {
   "cell_type": "code",
   "execution_count": 25,
   "metadata": {},
   "outputs": [
    {
     "data": {
      "text/html": [
       "<div>\n",
       "<style scoped>\n",
       "    .dataframe tbody tr th:only-of-type {\n",
       "        vertical-align: middle;\n",
       "    }\n",
       "\n",
       "    .dataframe tbody tr th {\n",
       "        vertical-align: top;\n",
       "    }\n",
       "\n",
       "    .dataframe thead th {\n",
       "        text-align: right;\n",
       "    }\n",
       "</style>\n",
       "<table border=\"1\" class=\"dataframe\">\n",
       "  <thead>\n",
       "    <tr style=\"text-align: right;\">\n",
       "      <th></th>\n",
       "      <th>Id</th>\n",
       "      <th>Name</th>\n",
       "      <th>Year</th>\n",
       "      <th>Gender</th>\n",
       "      <th>State</th>\n",
       "      <th>Count</th>\n",
       "    </tr>\n",
       "  </thead>\n",
       "  <tbody>\n",
       "    <tr>\n",
       "      <th>0</th>\n",
       "      <td>1</td>\n",
       "      <td>Mary</td>\n",
       "      <td>1910</td>\n",
       "      <td>F</td>\n",
       "      <td>AK</td>\n",
       "      <td>14</td>\n",
       "    </tr>\n",
       "    <tr>\n",
       "      <th>1</th>\n",
       "      <td>2</td>\n",
       "      <td>Annie</td>\n",
       "      <td>1910</td>\n",
       "      <td>F</td>\n",
       "      <td>AK</td>\n",
       "      <td>12</td>\n",
       "    </tr>\n",
       "    <tr>\n",
       "      <th>2</th>\n",
       "      <td>3</td>\n",
       "      <td>Anna</td>\n",
       "      <td>1910</td>\n",
       "      <td>F</td>\n",
       "      <td>AK</td>\n",
       "      <td>10</td>\n",
       "    </tr>\n",
       "    <tr>\n",
       "      <th>3</th>\n",
       "      <td>4</td>\n",
       "      <td>Margaret</td>\n",
       "      <td>1910</td>\n",
       "      <td>F</td>\n",
       "      <td>AK</td>\n",
       "      <td>8</td>\n",
       "    </tr>\n",
       "    <tr>\n",
       "      <th>4</th>\n",
       "      <td>5</td>\n",
       "      <td>Helen</td>\n",
       "      <td>1910</td>\n",
       "      <td>F</td>\n",
       "      <td>AK</td>\n",
       "      <td>7</td>\n",
       "    </tr>\n",
       "    <tr>\n",
       "      <th>5</th>\n",
       "      <td>6</td>\n",
       "      <td>Elsie</td>\n",
       "      <td>1910</td>\n",
       "      <td>F</td>\n",
       "      <td>AK</td>\n",
       "      <td>6</td>\n",
       "    </tr>\n",
       "    <tr>\n",
       "      <th>6</th>\n",
       "      <td>7</td>\n",
       "      <td>Lucy</td>\n",
       "      <td>1910</td>\n",
       "      <td>F</td>\n",
       "      <td>AK</td>\n",
       "      <td>6</td>\n",
       "    </tr>\n",
       "    <tr>\n",
       "      <th>7</th>\n",
       "      <td>8</td>\n",
       "      <td>Dorothy</td>\n",
       "      <td>1910</td>\n",
       "      <td>F</td>\n",
       "      <td>AK</td>\n",
       "      <td>5</td>\n",
       "    </tr>\n",
       "    <tr>\n",
       "      <th>8</th>\n",
       "      <td>9</td>\n",
       "      <td>Mary</td>\n",
       "      <td>1911</td>\n",
       "      <td>F</td>\n",
       "      <td>AK</td>\n",
       "      <td>12</td>\n",
       "    </tr>\n",
       "    <tr>\n",
       "      <th>9</th>\n",
       "      <td>10</td>\n",
       "      <td>Margaret</td>\n",
       "      <td>1911</td>\n",
       "      <td>F</td>\n",
       "      <td>AK</td>\n",
       "      <td>7</td>\n",
       "    </tr>\n",
       "  </tbody>\n",
       "</table>\n",
       "</div>"
      ],
      "text/plain": [
       "   Id      Name  Year Gender State  Count\n",
       "0   1      Mary  1910      F    AK     14\n",
       "1   2     Annie  1910      F    AK     12\n",
       "2   3      Anna  1910      F    AK     10\n",
       "3   4  Margaret  1910      F    AK      8\n",
       "4   5     Helen  1910      F    AK      7\n",
       "5   6     Elsie  1910      F    AK      6\n",
       "6   7      Lucy  1910      F    AK      6\n",
       "7   8   Dorothy  1910      F    AK      5\n",
       "8   9      Mary  1911      F    AK     12\n",
       "9  10  Margaret  1911      F    AK      7"
      ]
     },
     "execution_count": 25,
     "metadata": {},
     "output_type": "execute_result"
    }
   ],
   "source": [
    "#read our file\n",
    "df = pd.read_csv(\"StateNames.csv\") \n",
    "df.head(10)"
   ]
  },
  {
   "cell_type": "markdown",
   "metadata": {},
   "source": [
    "# 1 Task"
   ]
  },
  {
   "cell_type": "code",
   "execution_count": 26,
   "metadata": {},
   "outputs": [],
   "source": [
    "# I decided to divide data for 1 task by period of time\n",
    "\n",
    "formatted_df1 = df[df.Year.ge(1990)]\n",
    "\n",
    "formatted_df2 = df[df.Year.le(1990)]"
   ]
  },
  {
   "cell_type": "code",
   "execution_count": 27,
   "metadata": {},
   "outputs": [
    {
     "data": {
      "text/html": [
       "<div>\n",
       "<style scoped>\n",
       "    .dataframe tbody tr th:only-of-type {\n",
       "        vertical-align: middle;\n",
       "    }\n",
       "\n",
       "    .dataframe tbody tr th {\n",
       "        vertical-align: top;\n",
       "    }\n",
       "\n",
       "    .dataframe thead th {\n",
       "        text-align: right;\n",
       "    }\n",
       "</style>\n",
       "<table border=\"1\" class=\"dataframe\">\n",
       "  <thead>\n",
       "    <tr style=\"text-align: right;\">\n",
       "      <th></th>\n",
       "      <th>Name</th>\n",
       "      <th>State</th>\n",
       "      <th>Count</th>\n",
       "    </tr>\n",
       "  </thead>\n",
       "  <tbody>\n",
       "    <tr>\n",
       "      <th>149393</th>\n",
       "      <td>Michael</td>\n",
       "      <td>AK</td>\n",
       "      <td>1916</td>\n",
       "    </tr>\n",
       "    <tr>\n",
       "      <th>202408</th>\n",
       "      <td>William</td>\n",
       "      <td>AL</td>\n",
       "      <td>14629</td>\n",
       "    </tr>\n",
       "    <tr>\n",
       "      <th>87269</th>\n",
       "      <td>Jacob</td>\n",
       "      <td>AR</td>\n",
       "      <td>6513</td>\n",
       "    </tr>\n",
       "    <tr>\n",
       "      <th>149396</th>\n",
       "      <td>Michael</td>\n",
       "      <td>AZ</td>\n",
       "      <td>14456</td>\n",
       "    </tr>\n",
       "    <tr>\n",
       "      <th>51692</th>\n",
       "      <td>Daniel</td>\n",
       "      <td>CA</td>\n",
       "      <td>103620</td>\n",
       "    </tr>\n",
       "    <tr>\n",
       "      <th>149398</th>\n",
       "      <td>Michael</td>\n",
       "      <td>CO</td>\n",
       "      <td>10313</td>\n",
       "    </tr>\n",
       "    <tr>\n",
       "      <th>149399</th>\n",
       "      <td>Michael</td>\n",
       "      <td>CT</td>\n",
       "      <td>12964</td>\n",
       "    </tr>\n",
       "    <tr>\n",
       "      <th>149400</th>\n",
       "      <td>Michael</td>\n",
       "      <td>DC</td>\n",
       "      <td>3009</td>\n",
       "    </tr>\n",
       "    <tr>\n",
       "      <th>149401</th>\n",
       "      <td>Michael</td>\n",
       "      <td>DE</td>\n",
       "      <td>2816</td>\n",
       "    </tr>\n",
       "    <tr>\n",
       "      <th>149402</th>\n",
       "      <td>Michael</td>\n",
       "      <td>FL</td>\n",
       "      <td>45245</td>\n",
       "    </tr>\n",
       "  </tbody>\n",
       "</table>\n",
       "</div>"
      ],
      "text/plain": [
       "           Name State   Count\n",
       "149393  Michael    AK    1916\n",
       "202408  William    AL   14629\n",
       "87269     Jacob    AR    6513\n",
       "149396  Michael    AZ   14456\n",
       "51692    Daniel    CA  103620\n",
       "149398  Michael    CO   10313\n",
       "149399  Michael    CT   12964\n",
       "149400  Michael    DC    3009\n",
       "149401  Michael    DE    2816\n",
       "149402  Michael    FL   45245"
      ]
     },
     "execution_count": 27,
     "metadata": {},
     "output_type": "execute_result"
    }
   ],
   "source": [
    "# Working with first period\n",
    "# Period after 1990\n",
    "# Selecting \n",
    "formatted_df1 = formatted_df1[['Name', 'State', 'Count']]\n",
    "formatted_df1 = formatted_df1.groupby(['Name','State'], as_index=False).aggregate({'Count':'sum'})\n",
    "formatted_df1 = formatted_df1.loc[formatted_df1.groupby('State')['Count'].idxmax()]\n",
    "formatted_df1.head(10)"
   ]
  },
  {
   "cell_type": "code",
   "execution_count": 28,
   "metadata": {},
   "outputs": [
    {
     "data": {
      "text/plain": [
       "<matplotlib.axes._subplots.AxesSubplot at 0x1e4c8986da0>"
      ]
     },
     "execution_count": 28,
     "metadata": {},
     "output_type": "execute_result"
    },
    {
     "data": {
      "image/png": "[encoded data removed]",
      "text/plain": [
       "<Figure size 1080x1080 with 1 Axes>"
      ]
     },
     "metadata": {
      "needs_background": "light"
     },
     "output_type": "display_data"
    }
   ],
   "source": [
    "# Creating new column with name and state\n",
    "# New df with two needed columns\n",
    "# Plot\n",
    "formatted_df1[\"Name State\"] = formatted_df1[\"Name\"] + \"|\"+ formatted_df1[\"State\"]\n",
    "formatted_df1 = formatted_df1[['Name State','Count']]\n",
    "formatted_df1.head(10)\n",
    "formatted_df1.set_index(\"Name State\",drop=True,inplace=True)\n",
    "p=formatted_df1.plot.bar(figsize = (15,15))\n",
    "p.set_xlabel(\"After 1990\")\n",
    "p"
   ]
  },
  {
   "cell_type": "code",
   "execution_count": 29,
   "metadata": {},
   "outputs": [
    {
     "data": {
      "text/html": [
       "<div>\n",
       "<style scoped>\n",
       "    .dataframe tbody tr th:only-of-type {\n",
       "        vertical-align: middle;\n",
       "    }\n",
       "\n",
       "    .dataframe tbody tr th {\n",
       "        vertical-align: top;\n",
       "    }\n",
       "\n",
       "    .dataframe thead th {\n",
       "        text-align: right;\n",
       "    }\n",
       "</style>\n",
       "<table border=\"1\" class=\"dataframe\">\n",
       "  <thead>\n",
       "    <tr style=\"text-align: right;\">\n",
       "      <th></th>\n",
       "      <th>Name</th>\n",
       "      <th>State</th>\n",
       "      <th>Count</th>\n",
       "    </tr>\n",
       "  </thead>\n",
       "  <tbody>\n",
       "    <tr>\n",
       "      <th>120370</th>\n",
       "      <td>Michael</td>\n",
       "      <td>AK</td>\n",
       "      <td>6355</td>\n",
       "    </tr>\n",
       "    <tr>\n",
       "      <th>74168</th>\n",
       "      <td>James</td>\n",
       "      <td>AL</td>\n",
       "      <td>146670</td>\n",
       "    </tr>\n",
       "    <tr>\n",
       "      <th>74169</th>\n",
       "      <td>James</td>\n",
       "      <td>AR</td>\n",
       "      <td>80151</td>\n",
       "    </tr>\n",
       "    <tr>\n",
       "      <th>120373</th>\n",
       "      <td>Michael</td>\n",
       "      <td>AZ</td>\n",
       "      <td>31490</td>\n",
       "    </tr>\n",
       "    <tr>\n",
       "      <th>120374</th>\n",
       "      <td>Michael</td>\n",
       "      <td>CA</td>\n",
       "      <td>338592</td>\n",
       "    </tr>\n",
       "    <tr>\n",
       "      <th>139713</th>\n",
       "      <td>Robert</td>\n",
       "      <td>CO</td>\n",
       "      <td>43518</td>\n",
       "    </tr>\n",
       "    <tr>\n",
       "      <th>82137</th>\n",
       "      <td>John</td>\n",
       "      <td>CT</td>\n",
       "      <td>72793</td>\n",
       "    </tr>\n",
       "    <tr>\n",
       "      <th>82138</th>\n",
       "      <td>John</td>\n",
       "      <td>DC</td>\n",
       "      <td>31943</td>\n",
       "    </tr>\n",
       "    <tr>\n",
       "      <th>82139</th>\n",
       "      <td>John</td>\n",
       "      <td>DE</td>\n",
       "      <td>13446</td>\n",
       "    </tr>\n",
       "    <tr>\n",
       "      <th>74176</th>\n",
       "      <td>James</td>\n",
       "      <td>FL</td>\n",
       "      <td>115859</td>\n",
       "    </tr>\n",
       "  </tbody>\n",
       "</table>\n",
       "</div>"
      ],
      "text/plain": [
       "           Name State   Count\n",
       "120370  Michael    AK    6355\n",
       "74168     James    AL  146670\n",
       "74169     James    AR   80151\n",
       "120373  Michael    AZ   31490\n",
       "120374  Michael    CA  338592\n",
       "139713   Robert    CO   43518\n",
       "82137      John    CT   72793\n",
       "82138      John    DC   31943\n",
       "82139      John    DE   13446\n",
       "74176     James    FL  115859"
      ]
     },
     "execution_count": 29,
     "metadata": {},
     "output_type": "execute_result"
    }
   ],
   "source": [
    "# Working with first period\n",
    "# Period before 1990\n",
    "# Selecting \n",
    "formatted_df2 = formatted_df2[['Name', 'State', 'Count']]\n",
    "formatted_df2 = formatted_df2.groupby(['Name','State'], as_index=False).aggregate({'Count':'sum'})\n",
    "formatted_df2 = formatted_df2.loc[formatted_df2.groupby('State')['Count'].idxmax()]\n",
    "formatted_df2.head(10)"
   ]
  },
  {
   "cell_type": "code",
   "execution_count": 30,
   "metadata": {},
   "outputs": [
    {
     "data": {
      "text/plain": [
       "<matplotlib.axes._subplots.AxesSubplot at 0x1e4c8810860>"
      ]
     },
     "execution_count": 30,
     "metadata": {},
     "output_type": "execute_result"
    },
    {
     "data": {
      "image/png": "[encoded data removed]",
      "text/plain": [
       "<Figure size 1080x1080 with 1 Axes>"
      ]
     },
     "metadata": {
      "needs_background": "light"
     },
     "output_type": "display_data"
    }
   ],
   "source": [
    "# Creating new column with name and state\n",
    "# New df with two needed columns\n",
    "# Plot\n",
    "formatted_df2[\"Name State\"] = formatted_df2[\"Name\"] + \"|\"+ formatted_df2[\"State\"]\n",
    "formatted_df2 = formatted_df2[['Name State','Count']]\n",
    "formatted_df2.head(10)\n",
    "formatted_df2.set_index(\"Name State\",drop=True,inplace=True)\n",
    "p1=formatted_df2.plot.bar(figsize = (15,15))\n",
    "p1.set_xlabel(\"Before 1990\")\n",
    "p1"
   ]
  },
  {
   "cell_type": "markdown",
   "metadata": {},
   "source": [
    "# 2 Task"
   ]
  },
  {
   "cell_type": "code",
   "execution_count": 95,
   "metadata": {},
   "outputs": [],
   "source": [
    "# I decided to divide data for 2 task by sex and filter time period\n",
    "df1 = df[df['Year'].between(1990, 2000)]\n",
    "\n",
    "formatted_df1 = df1.loc[df1['Gender'] == 'F']\n",
    "\n",
    "formatted_df2 = df1.loc[df1['Gender'] == 'M']"
   ]
  },
  {
   "cell_type": "code",
   "execution_count": 96,
   "metadata": {},
   "outputs": [
    {
     "data": {
      "text/html": [
       "<div>\n",
       "<style scoped>\n",
       "    .dataframe tbody tr th:only-of-type {\n",
       "        vertical-align: middle;\n",
       "    }\n",
       "\n",
       "    .dataframe tbody tr th {\n",
       "        vertical-align: top;\n",
       "    }\n",
       "\n",
       "    .dataframe thead tr th {\n",
       "        text-align: left;\n",
       "    }\n",
       "\n",
       "    .dataframe thead tr:last-of-type th {\n",
       "        text-align: right;\n",
       "    }\n",
       "</style>\n",
       "<table border=\"1\" class=\"dataframe\">\n",
       "  <thead>\n",
       "    <tr>\n",
       "      <th></th>\n",
       "      <th colspan=\"3\" halign=\"left\">Count</th>\n",
       "    </tr>\n",
       "    <tr>\n",
       "      <th>State</th>\n",
       "      <th>AK</th>\n",
       "      <th>FL</th>\n",
       "      <th>WY</th>\n",
       "    </tr>\n",
       "    <tr>\n",
       "      <th>Name</th>\n",
       "      <th></th>\n",
       "      <th></th>\n",
       "      <th></th>\n",
       "    </tr>\n",
       "  </thead>\n",
       "  <tbody>\n",
       "    <tr>\n",
       "      <th>Ashley</th>\n",
       "      <td>705.0</td>\n",
       "      <td>17924.0</td>\n",
       "      <td>485.0</td>\n",
       "    </tr>\n",
       "    <tr>\n",
       "      <th>Helen</th>\n",
       "      <td>33.0</td>\n",
       "      <td>367.0</td>\n",
       "      <td>NaN</td>\n",
       "    </tr>\n",
       "    <tr>\n",
       "      <th>Mary</th>\n",
       "      <td>252.0</td>\n",
       "      <td>3159.0</td>\n",
       "      <td>83.0</td>\n",
       "    </tr>\n",
       "  </tbody>\n",
       "</table>\n",
       "</div>"
      ],
      "text/plain": [
       "        Count                \n",
       "State      AK       FL     WY\n",
       "Name                         \n",
       "Ashley  705.0  17924.0  485.0\n",
       "Helen    33.0    367.0    NaN\n",
       "Mary    252.0   3159.0   83.0"
      ]
     },
     "execution_count": 96,
     "metadata": {},
     "output_type": "execute_result"
    }
   ],
   "source": [
    "# Filtering...\n",
    "# Preparing for heatmap\n",
    "# Female\n",
    "array = ['FL', 'AK', 'WY']\n",
    "formatted_df1 = formatted_df1.loc[df['State'].isin(array)]\n",
    "array = ['Ashley', 'Mary', 'Helen']\n",
    "formatted_df1 = formatted_df1.loc[formatted_df1['Name'].isin(array)]\n",
    "formatted_df1 = formatted_df1[['Name', 'State','Count']]\n",
    "formatted_df1 = formatted_df1.groupby(['State','Name']).sum()\n",
    "formatted_df1=formatted_df1.unstack(level=0)\n",
    "formatted_df1.head(10)"
   ]
  },
  {
   "cell_type": "code",
   "execution_count": 97,
   "metadata": {},
   "outputs": [
    {
     "data": {
      "text/plain": [
       "<matplotlib.axes._subplots.AxesSubplot at 0x25817b22ac8>"
      ]
     },
     "execution_count": 97,
     "metadata": {},
     "output_type": "execute_result"
    },
    {
     "data": {
      "image/png": "[encoded data removed]",
      "text/plain": [
       "<Figure size 432x288 with 2 Axes>"
      ]
     },
     "metadata": {
      "needs_background": "light"
     },
     "output_type": "display_data"
    }
   ],
   "source": [
    "# Female\n",
    "x_axis_labels = [\"AK\", \"FL\", \"WY\"]\n",
    "sns.heatmap(formatted_df1, cmap=\"YlGnBu\", xticklabels=x_axis_labels)\n"
   ]
  },
  {
   "cell_type": "code",
   "execution_count": 99,
   "metadata": {},
   "outputs": [
    {
     "data": {
      "text/html": [
       "<div>\n",
       "<style scoped>\n",
       "    .dataframe tbody tr th:only-of-type {\n",
       "        vertical-align: middle;\n",
       "    }\n",
       "\n",
       "    .dataframe tbody tr th {\n",
       "        vertical-align: top;\n",
       "    }\n",
       "\n",
       "    .dataframe thead tr th {\n",
       "        text-align: left;\n",
       "    }\n",
       "\n",
       "    .dataframe thead tr:last-of-type th {\n",
       "        text-align: right;\n",
       "    }\n",
       "</style>\n",
       "<table border=\"1\" class=\"dataframe\">\n",
       "  <thead>\n",
       "    <tr>\n",
       "      <th></th>\n",
       "      <th colspan=\"3\" halign=\"left\">Count</th>\n",
       "    </tr>\n",
       "    <tr>\n",
       "      <th>State</th>\n",
       "      <th>AK</th>\n",
       "      <th>FL</th>\n",
       "      <th>WY</th>\n",
       "    </tr>\n",
       "    <tr>\n",
       "      <th>Name</th>\n",
       "      <th></th>\n",
       "      <th></th>\n",
       "      <th></th>\n",
       "    </tr>\n",
       "  </thead>\n",
       "  <tbody>\n",
       "    <tr>\n",
       "      <th>James</th>\n",
       "      <td>792</td>\n",
       "      <td>13222</td>\n",
       "      <td>366</td>\n",
       "    </tr>\n",
       "    <tr>\n",
       "      <th>Nathan</th>\n",
       "      <td>354</td>\n",
       "      <td>3683</td>\n",
       "      <td>236</td>\n",
       "    </tr>\n",
       "    <tr>\n",
       "      <th>Ryan</th>\n",
       "      <td>653</td>\n",
       "      <td>11870</td>\n",
       "      <td>388</td>\n",
       "    </tr>\n",
       "  </tbody>\n",
       "</table>\n",
       "</div>"
      ],
      "text/plain": [
       "       Count            \n",
       "State     AK     FL   WY\n",
       "Name                    \n",
       "James    792  13222  366\n",
       "Nathan   354   3683  236\n",
       "Ryan     653  11870  388"
      ]
     },
     "execution_count": 99,
     "metadata": {},
     "output_type": "execute_result"
    }
   ],
   "source": [
    "# Filtering...\n",
    "# Preparing for heatmap\n",
    "# Male\n",
    "array = ['FL', 'AK', 'WY']\n",
    "formatted_df2 = formatted_df2.loc[df['State'].isin(array)]\n",
    "array = ['James', 'Ryan', 'Nathan']\n",
    "formatted_df2 = formatted_df2.loc[df['Name'].isin(array)]\n",
    "formatted_df2 = formatted_df2[['Name', 'State','Count']]\n",
    "formatted_df2 = formatted_df2.groupby(['State','Name']).sum()\n",
    "formatted_df2=formatted_df2.unstack(level=0)\n",
    "formatted_df2.head(10)"
   ]
  },
  {
   "cell_type": "code",
   "execution_count": 101,
   "metadata": {},
   "outputs": [
    {
     "data": {
      "text/plain": [
       "<matplotlib.axes._subplots.AxesSubplot at 0x2585d0e97f0>"
      ]
     },
     "execution_count": 101,
     "metadata": {},
     "output_type": "execute_result"
    },
    {
     "data": {
      "image/png": "[encoded data removed]",
      "text/plain": [
       "<Figure size 432x288 with 2 Axes>"
      ]
     },
     "metadata": {
      "needs_background": "light"
     },
     "output_type": "display_data"
    }
   ],
   "source": [
    "# Male\n",
    "\n",
    "sns.heatmap(formatted_df2, cmap=\"YlGnBu\", xticklabels=x_axis_labels)"
   ]
  },
  {
   "cell_type": "markdown",
   "metadata": {},
   "source": [
    "# 3 Task"
   ]
  },
  {
   "cell_type": "code",
   "execution_count": 131,
   "metadata": {},
   "outputs": [],
   "source": [
    "# Filter by time period, states and names\n",
    "formatted_df1 = df[df.Year.ge(1990)]\n",
    "array = ['FL', 'AK', 'WY']\n",
    "formatted_df1 = formatted_df1.loc[df['State'].isin(array)]\n",
    "array = ['Jessica', 'Mary', 'Nathan']\n",
    "formatted_df1 = formatted_df1.loc[df['Name'].isin(array)]"
   ]
  },
  {
   "cell_type": "code",
   "execution_count": 132,
   "metadata": {},
   "outputs": [],
   "source": [
    "# Keeping only needed columns\n",
    "formatted_df1 = formatted_df1[['Name', 'Year', 'State','Count']]"
   ]
  },
  {
   "cell_type": "code",
   "execution_count": 133,
   "metadata": {},
   "outputs": [
    {
     "data": {
      "image/png": "[encoded data removed]",
      "text/plain": [
       "<Figure size 1152.38x360 with 3 Axes>"
      ]
     },
     "metadata": {
      "needs_background": "light"
     },
     "output_type": "display_data"
    }
   ],
   "source": [
    "sns.relplot(x=\"Year\", y=\"Count\", hue=\"Name\", style=\"Name\",\n",
    "            col=\"State\", col_wrap=3,\n",
    "            kind=\"line\", data=formatted_df1);"
   ]
  },
  {
   "cell_type": "code",
   "execution_count": null,
   "metadata": {},
   "outputs": [],
   "source": []
  }
 ],
 "metadata": {
  "kernelspec": {
   "display_name": "Python 3",
   "language": "python",
   "name": "python3"
  },
  "language_info": {
   "codemirror_mode": {
    "name": "ipython",
    "version": 3
   },
   "file_extension": ".py",
   "mimetype": "text/x-python",
   "name": "python",
   "nbconvert_exporter": "python",
   "pygments_lexer": "ipython3",
   "version": "3.7.3"
  }
 },
 "nbformat": 4,
 "nbformat_minor": 2
}
