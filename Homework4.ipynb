{
 "cells": [
  {
   "cell_type": "code",
   "execution_count": 3,
   "metadata": {},
   "outputs": [
    {
     "name": "stdout",
     "output_type": "stream",
     "text": [
      "WMQS\n"
     ]
    }
   ],
   "source": [
    "# Our task input\n",
    "L = [3524.8542,\n",
    "3710.9335,\n",
    "3841.974,\n",
    "3970.0326,\n",
    "4057.0646]\n",
    "\n",
    "# Cheaty method, but it's faster and saves space. I created my own rounded dict\n",
    "mass_table = {71.0371:'A',103.0092:'C',115.0270:'D',129.0426:'E',\n",
    "              147.06841:'F',57.02146:'G',137.05891:'H',113.0841:'I',\n",
    "              128.0950:'K',113.0841:'L',131.0405:'M',114.0430:'N',\n",
    "              97.0528:'P',128.0586:'Q',156.1011:'R',87.0320:'S',\n",
    "              101.0477:'T',99.0684:'V',186.0793:'W',163.0633:'Y'}\n",
    "\n",
    "# Create an empty list for apropriate ac \n",
    "masses = []\n",
    "for i in range(len(L) - 1):\n",
    "    mass = round(L[i + 1] - L[i], 4)\n",
    "    masses.append(mass)\n",
    "\n",
    "# Answer\n",
    "protein = ''\n",
    "for i in masses:\n",
    "    protein += mass_table[i]\n",
    "\n",
    "print(protein)"
   ]
  },
  {
   "cell_type": "code",
   "execution_count": null,
   "metadata": {},
   "outputs": [],
   "source": []
  }
 ],
 "metadata": {
  "kernelspec": {
   "display_name": "Python 3",
   "language": "python",
   "name": "python3"
  },
  "language_info": {
   "codemirror_mode": {
    "name": "ipython",
    "version": 3
   },
   "file_extension": ".py",
   "mimetype": "text/x-python",
   "name": "python",
   "nbconvert_exporter": "python",
   "pygments_lexer": "ipython3",
   "version": "3.7.3"
  }
 },
 "nbformat": 4,
 "nbformat_minor": 2
}
