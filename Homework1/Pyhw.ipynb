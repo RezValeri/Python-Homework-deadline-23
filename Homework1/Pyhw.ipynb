{
 "cells": [
  {
   "cell_type": "code",
   "execution_count": 1,
   "metadata": {},
   "outputs": [
    {
     "name": "stdout",
     "output_type": "stream",
     "text": [
      "Isocitrate lyase 5E9F contains its active site PS00161 starting from 52 th position pgt KKCGHM agk\n"
     ]
    }
   ],
   "source": [
    "import re\n",
    "#I've created a dictionary with regular expression\n",
    "def translate_prosite(read, fasta):\n",
    "    dic_pros = {'{':'[^', 'x':'.','}':']', '(':'{', ')':'}','<':'^', '>':'$', '-':''}\n",
    "    read2 = []\n",
    "#By using dictionary I rewrite motif\n",
    "    for i in read:\n",
    "        if i in dic_pros.keys():\n",
    "            read2.append(dic_pros[i])\n",
    "        else:\n",
    "            read2.append(i)\n",
    "    motif = \"\".join(read2)\n",
    "#Let's open our file\n",
    "    f1=open(fasta,'r')\n",
    "#Searching for ID, it starts from >\n",
    "    for line in f1:\n",
    "        fasta_id = re.search('\\>(.*)\\:', line)\n",
    "        break\n",
    "#Searching for our motif that I rewrited\n",
    "    for line in f1:\n",
    "        res = re.search(motif, line)\n",
    "#These lines for additional residuals +-3 (separeted by space)\n",
    "        if re.search(motif, line) is not None:\n",
    "            pre = line[res.span()[0]-3:res.span()[0]].lower()\n",
    "            aft = line[res.span()[1]:res.span()[1]+3].lower()\n",
    "            break\n",
    "    print (\"Isocitrate lyase\",fasta_id.group(1),\"contains its active site PS00161 starting from\", res.span()[0], \"th position\", pre,res.group(),aft)\n",
    "    \n",
    "read = list('K-[KR]-C-G-H-[LMQR]')\n",
    "translate_prosite(read, '5e9f.fasta.txt')"
   ]
  },
  {
   "cell_type": "code",
   "execution_count": null,
   "metadata": {},
   "outputs": [],
   "source": []
  }
 ],
 "metadata": {
  "kernelspec": {
   "display_name": "Python 3",
   "language": "python",
   "name": "python3"
  },
  "language_info": {
   "codemirror_mode": {
    "name": "ipython",
    "version": 3
   },
   "file_extension": ".py",
   "mimetype": "text/x-python",
   "name": "python",
   "nbconvert_exporter": "python",
   "pygments_lexer": "ipython3",
   "version": "3.7.3"
  }
 },
 "nbformat": 4,
 "nbformat_minor": 2
}
